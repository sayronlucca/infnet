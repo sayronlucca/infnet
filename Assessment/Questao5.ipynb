{
  "nbformat": 4,
  "nbformat_minor": 0,
  "metadata": {
    "colab": {
      "name": "Questao5.ipynb",
      "provenance": [],
      "authorship_tag": "ABX9TyPxI9bGqkKguGFSZZ2DpYZ/",
      "include_colab_link": true
    },
    "kernelspec": {
      "name": "python3",
      "display_name": "Python 3"
    }
  },
  "cells": [
    {
      "cell_type": "markdown",
      "metadata": {
        "id": "view-in-github",
        "colab_type": "text"
      },
      "source": [
        "<a href=\"https://colab.research.google.com/github/sayronlucca/infnet/blob/master/Questao5.ipynb\" target=\"_parent\"><img src=\"https://colab.research.google.com/assets/colab-badge.svg\" alt=\"Open In Colab\"/></a>"
      ]
    },
    {
      "cell_type": "code",
      "metadata": {
        "id": "F3pieSxxbO97"
      },
      "source": [
        "import pandas as pd\n",
        "\n",
        "df = pd.read_csv('PIBS.csv')\n",
        "\n",
        "ano = 2015\n",
        "# give column name \n",
        "col_name = str(ano)\n",
        "  \n",
        "# find the index no \n",
        "index_no = df.columns.get_loc(col_name) \n",
        "  \n",
        "print(\"Index of {} column in given dataframe is : {}\".format(col_name, index_no))\n",
        "\n",
        "df1 = df.loc[df['País']]\n",
        "df1\n",
        "ano = \"2015\"\n",
        "df1=df.columns[\"2015\"]\n",
        "df1\n",
        "coluna_ano = str(ano)\n",
        "\n",
        "print(df[df.loc[[$coluna_ano]]])\n",
        "\n",
        "df2 = df.iloc[df[ano]]\n",
        "df2\n",
        "\n",
        "df.loc[df[\"País\"].str.len().values(), \"País\"]\n",
        "\n",
        " \n",
        " \n",
        "# Abre o arquivo csv especificado e aloca o conteúdo numa variável df \n",
        "\n",
        "# Localizando, no dataframe, o número de pontos dada uma determinada temporada\n",
        "\n",
        "# Agora, vamos *refatorar* o código para colocá-lo numa função:\n",
        "df = pd.read_csv('PIBS.csv')\n",
        "\n",
        "def exibir_pib_ano(pais,ano):\n",
        "  # Abre o arquivo csv especificado e aloca o conteúdo numa variável df \n",
        " \n",
        "    if df.loc[df['País'] == pais]:\n",
        "      pib = df.loc[df['País'] == pais, ano].values[0]\n",
        "      print(f\"PIB {pais} em {ano}: US$ {pib} trilhões.\")\n",
        "    else:\n",
        "      print(\"País não disponível\")\n",
        "  \n",
        "\n",
        "\n",
        "pais = input(\"Informe um país: \")\n",
        "ano = input(\"Informe um ano entre 2013 e 2020: \")\n",
        "\n",
        "exibir_pib_ano(pais,ano)\n",
        "\n",
        "\n"
      ],
      "execution_count": null,
      "outputs": []
    }
  ]
}