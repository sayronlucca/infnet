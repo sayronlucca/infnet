{
  "nbformat": 4,
  "nbformat_minor": 0,
  "metadata": {
    "colab": {
      "name": "Questao4.ipynb",
      "provenance": [],
      "authorship_tag": "ABX9TyNmuakTXpihbD7ziGVaa1Eg",
      "include_colab_link": true
    },
    "kernelspec": {
      "name": "python3",
      "display_name": "Python 3"
    }
  },
  "cells": [
    {
      "cell_type": "markdown",
      "metadata": {
        "id": "view-in-github",
        "colab_type": "text"
      },
      "source": [
        "<a href=\"https://colab.research.google.com/github/sayronlucca/infnet/blob/master/Questao4.ipynb\" target=\"_parent\"><img src=\"https://colab.research.google.com/assets/colab-badge.svg\" alt=\"Open In Colab\"/></a>"
      ]
    },
    {
      "cell_type": "code",
      "metadata": {
        "id": "NvZhMfeBgnRY"
      },
      "source": [
        "\n",
        "x = []\n",
        "y = []\n",
        "\n",
        "def calcular_rendimento(valor_investimento, perc_rendimento, valor_aporte, num_periodos):\n",
        "  print(f\"Valor inicial: R$ {valor_investimento:.2f}.\")\n",
        "  valor = valor_investimento\n",
        "  \n",
        "  for i in range(num_periodos):\n",
        "    valor = valor + (valor * perc_rendimento / 100) + valor_aporte\n",
        "    y.append(valor)\n",
        "    x.append(i)\n",
        "    print(f\"Após \\t {i+1} período(s), o montante será de R$ {valor:.2f}\")\n",
        "\n",
        "\n",
        "\n",
        "valor_investimento = float(input(\"Valor inicial do investimento: R$ \"))\n",
        "perc_rendimento = float(input(\"Informe o rendimento por período (%) \"))\n",
        "valor_aporte = float(input(\"Informe o valor do aporte em cada período R$: \"))\n",
        "num_periodos = int(input(\"Informe a quantidade de períodos: \"))\n",
        "\n",
        "calcular_rendimento(valor_investimento, perc_rendimento, valor_aporte, num_periodos)\n",
        "\n",
        "import matplotlib.pyplot as plt\n",
        "\n",
        "plt.plot(x,y)\n",
        "plt.show()\n",
        "\n",
        "\n",
        "\n",
        " "
      ],
      "execution_count": 1,
      "outputs": [
        {
          "output_type": "stream",
          "name": "stdout",
          "text": [
            "Valor inicial: R$ 10000.00.\nApós \t 1 período(s), o montante será de R$ 11054.00\nApós \t 2 período(s), o montante será de R$ 12113.69\nApós \t 3 período(s), o montante será de R$ 13179.11\nApós \t 4 período(s), o montante será de R$ 14250.27\nApós \t 5 período(s), o montante será de R$ 15327.22\nApós \t 6 período(s), o montante será de R$ 16409.99\nApós \t 7 período(s), o montante será de R$ 17498.61\nApós \t 8 período(s), o montante será de R$ 18593.10\nApós \t 9 período(s), o montante será de R$ 19693.50\nApós \t 10 período(s), o montante será de R$ 20799.85\nApós \t 11 período(s), o montante será de R$ 21912.16\nApós \t 12 período(s), o montante será de R$ 23030.49\nApós \t 13 período(s), o montante será de R$ 24154.85\nApós \t 14 período(s), o montante será de R$ 25285.29\nApós \t 15 período(s), o montante será de R$ 26421.83\nApós \t 16 período(s), o montante será de R$ 27564.51\nApós \t 17 período(s), o montante será de R$ 28713.36\nApós \t 18 período(s), o montante será de R$ 29868.41\nApós \t 19 período(s), o montante será de R$ 31029.70\nApós \t 20 período(s), o montante será de R$ 32197.26\nApós \t 21 período(s), o montante será de R$ 33371.12\nApós \t 22 período(s), o montante será de R$ 34551.33\nApós \t 23 período(s), o montante será de R$ 35737.91\nApós \t 24 período(s), o montante será de R$ 36930.89\nApós \t 25 período(s), o montante será de R$ 38130.32\nApós \t 26 período(s), o montante será de R$ 39336.22\nApós \t 27 período(s), o montante será de R$ 40548.64\nApós \t 28 período(s), o montante será de R$ 41767.60\nApós \t 29 período(s), o montante será de R$ 42993.14\nApós \t 30 período(s), o montante será de R$ 44225.31\nApós \t 31 período(s), o montante será de R$ 45464.12\nApós \t 32 período(s), o montante será de R$ 46709.63\nApós \t 33 período(s), o montante será de R$ 47961.86\nApós \t 34 período(s), o montante será de R$ 49220.86\nApós \t 35 período(s), o montante será de R$ 50486.65\nApós \t 36 período(s), o montante será de R$ 51759.28\nApós \t 37 período(s), o montante será de R$ 53038.78\nApós \t 38 período(s), o montante será de R$ 54325.19\nApós \t 39 período(s), o montante será de R$ 55618.54\nApós \t 40 período(s), o montante será de R$ 56918.88\nApós \t 41 período(s), o montante será de R$ 58226.24\nApós \t 42 período(s), o montante será de R$ 59540.67\nApós \t 43 período(s), o montante será de R$ 60862.19\nApós \t 44 período(s), o montante será de R$ 62190.84\nApós \t 45 período(s), o montante será de R$ 63526.67\nApós \t 46 período(s), o montante será de R$ 64869.72\nApós \t 47 período(s), o montante será de R$ 66220.01\nApós \t 48 período(s), o montante será de R$ 67577.60\nApós \t 49 período(s), o montante será de R$ 68942.52\nApós \t 50 período(s), o montante será de R$ 70314.81\nApós \t 51 período(s), o montante será de R$ 71694.51\nApós \t 52 período(s), o montante será de R$ 73081.66\nApós \t 53 período(s), o montante será de R$ 74476.30\nApós \t 54 período(s), o montante será de R$ 75878.47\nApós \t 55 período(s), o montante será de R$ 77288.22\nApós \t 56 período(s), o montante será de R$ 78705.57\nApós \t 57 período(s), o montante será de R$ 80130.58\nApós \t 58 período(s), o montante será de R$ 81563.29\nApós \t 59 período(s), o montante será de R$ 83003.73\nApós \t 60 período(s), o montante será de R$ 84451.95\nApós \t 61 período(s), o montante será de R$ 85907.99\nApós \t 62 período(s), o montante será de R$ 87371.89\nApós \t 63 período(s), o montante será de R$ 88843.70\nApós \t 64 período(s), o montante será de R$ 90323.46\nApós \t 65 período(s), o montante será de R$ 91811.20\nApós \t 66 período(s), o montante será de R$ 93306.99\nApós \t 67 período(s), o montante será de R$ 94810.84\nApós \t 68 período(s), o montante será de R$ 96322.82\nApós \t 69 período(s), o montante será de R$ 97842.96\nApós \t 70 período(s), o montante será de R$ 99371.32\nApós \t 71 período(s), o montante será de R$ 100907.92\nApós \t 72 período(s), o montante será de R$ 102452.82\nApós \t 73 período(s), o montante será de R$ 104006.07\nApós \t 74 período(s), o montante será de R$ 105567.70\nApós \t 75 período(s), o montante será de R$ 107137.77\nApós \t 76 período(s), o montante será de R$ 108716.31\nApós \t 77 período(s), o montante será de R$ 110303.38\nApós \t 78 período(s), o montante será de R$ 111899.02\nApós \t 79 período(s), o montante será de R$ 113503.27\nApós \t 80 período(s), o montante será de R$ 115116.19\nApós \t 81 período(s), o montante será de R$ 116737.82\nApós \t 82 período(s), o montante será de R$ 118368.20\nApós \t 83 período(s), o montante será de R$ 120007.39\nApós \t 84 período(s), o montante será de R$ 121655.43\nApós \t 85 período(s), o montante será de R$ 123312.37\nApós \t 86 período(s), o montante será de R$ 124978.26\nApós \t 87 período(s), o montante será de R$ 126653.14\nApós \t 88 período(s), o montante será de R$ 128337.07\nApós \t 89 período(s), o montante será de R$ 130030.09\nApós \t 90 período(s), o montante será de R$ 131732.25\nApós \t 91 período(s), o montante será de R$ 133443.60\nApós \t 92 período(s), o montante será de R$ 135164.20\nApós \t 93 período(s), o montante será de R$ 136894.09\nApós \t 94 período(s), o montante será de R$ 138633.31\nApós \t 95 período(s), o montante será de R$ 140381.93\nApós \t 96 período(s), o montante será de R$ 142140.00\nApós \t 97 período(s), o montante será de R$ 143907.55\nApós \t 98 período(s), o montante será de R$ 145684.65\nApós \t 99 período(s), o montante será de R$ 147471.35\nApós \t 100 período(s), o montante será de R$ 149267.69\nApós \t 101 período(s), o montante será de R$ 151073.74\nApós \t 102 período(s), o montante será de R$ 152889.54\nApós \t 103 período(s), o montante será de R$ 154715.14\nApós \t 104 período(s), o montante será de R$ 156550.60\nApós \t 105 período(s), o montante será de R$ 158395.98\nApós \t 106 período(s), o montante será de R$ 160251.32\nApós \t 107 período(s), o montante será de R$ 162116.67\nApós \t 108 período(s), o montante será de R$ 163992.10\nApós \t 109 período(s), o montante será de R$ 165877.66\nApós \t 110 período(s), o montante será de R$ 167773.40\nApós \t 111 período(s), o montante será de R$ 169679.38\nApós \t 112 período(s), o montante será de R$ 171595.64\nApós \t 113 período(s), o montante será de R$ 173522.26\nApós \t 114 período(s), o montante será de R$ 175459.28\nApós \t 115 período(s), o montante será de R$ 177406.76\nApós \t 116 período(s), o montante será de R$ 179364.76\nApós \t 117 período(s), o montante será de R$ 181333.33\nApós \t 118 período(s), o montante será de R$ 183312.53\nApós \t 119 período(s), o montante será de R$ 185302.42\nApós \t 120 período(s), o montante será de R$ 187303.05\n"
          ]
        },
        {
          "output_type": "error",
          "ename": "ModuleNotFoundError",
          "evalue": "No module named 'matplotlib'",
          "traceback": [
            "\u001b[0;31m---------------------------------------------------------------------------\u001b[0m",
            "\u001b[0;31mModuleNotFoundError\u001b[0m                       Traceback (most recent call last)",
            "\u001b[0;32m<ipython-input-1-a5b83c1e6b85>\u001b[0m in \u001b[0;36m<module>\u001b[0;34m\u001b[0m\n\u001b[1;32m     21\u001b[0m \u001b[0mcalcular_rendimento\u001b[0m\u001b[0;34m(\u001b[0m\u001b[0mvalor_investimento\u001b[0m\u001b[0;34m,\u001b[0m \u001b[0mperc_rendimento\u001b[0m\u001b[0;34m,\u001b[0m \u001b[0mvalor_aporte\u001b[0m\u001b[0;34m,\u001b[0m \u001b[0mnum_periodos\u001b[0m\u001b[0;34m)\u001b[0m\u001b[0;34m\u001b[0m\u001b[0;34m\u001b[0m\u001b[0m\n\u001b[1;32m     22\u001b[0m \u001b[0;34m\u001b[0m\u001b[0m\n\u001b[0;32m---> 23\u001b[0;31m \u001b[0;32mimport\u001b[0m \u001b[0mmatplotlib\u001b[0m\u001b[0;34m.\u001b[0m\u001b[0mpyplot\u001b[0m \u001b[0;32mas\u001b[0m \u001b[0mplt\u001b[0m\u001b[0;34m\u001b[0m\u001b[0;34m\u001b[0m\u001b[0m\n\u001b[0m\u001b[1;32m     24\u001b[0m \u001b[0;34m\u001b[0m\u001b[0m\n\u001b[1;32m     25\u001b[0m \u001b[0mplt\u001b[0m\u001b[0;34m.\u001b[0m\u001b[0mplot\u001b[0m\u001b[0;34m(\u001b[0m\u001b[0mx\u001b[0m\u001b[0;34m,\u001b[0m\u001b[0my\u001b[0m\u001b[0;34m)\u001b[0m\u001b[0;34m\u001b[0m\u001b[0;34m\u001b[0m\u001b[0m\n",
            "\u001b[0;31mModuleNotFoundError\u001b[0m: No module named 'matplotlib'"
          ]
        }
      ]
    },
    {
      "cell_type": "markdown",
      "metadata": {
        "id": "9oERVv_GVR1c"
      },
      "source": [
        ""
      ]
    },
    {
      "cell_type": "code",
      "metadata": {
        "id": "gab12NO9VPzc"
      },
      "source": [
        ""
      ],
      "execution_count": null,
      "outputs": []
    }
  ]
}