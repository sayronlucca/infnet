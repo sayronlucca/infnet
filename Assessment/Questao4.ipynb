{
  "nbformat": 4,
  "nbformat_minor": 0,
  "metadata": {
    "colab": {
      "name": "Questao4.ipynb",
      "provenance": [],
      "authorship_tag": "ABX9TyNmuakTXpihbD7ziGVaa1Eg",
      "include_colab_link": true
    },
    "kernelspec": {
      "name": "python3",
      "display_name": "Python 3"
    }
  },
  "cells": [
    {
      "cell_type": "markdown",
      "metadata": {
        "id": "view-in-github",
        "colab_type": "text"
      },
      "source": [
        "<a href=\"https://colab.research.google.com/github/sayronlucca/infnet/blob/master/Questao4.ipynb\" target=\"_parent\"><img src=\"https://colab.research.google.com/assets/colab-badge.svg\" alt=\"Open In Colab\"/></a>"
      ]
    },
    {
      "cell_type": "code",
      "metadata": {
        "id": "NvZhMfeBgnRY"
      },
      "source": [
        "import matplotlib.pyplot as plt\n",
        "\n",
        "\n",
        "\n",
        "def calcular_rendimento(valor_investimento, perc_rendimento, valor_aporte, num_periodos):\n",
        "  print(f\"Valor inicial: R$ {valor_investimento:.2f}.\")\n",
        "  valor = valor_investimento\n",
        "  i = 0\n",
        "  x=[i]\n",
        "  y=[]\n",
        "  for i in range(num_periodos):\n",
        "    valor = valor + (valor * perc_rendimento / 100) + valor_aporte\n",
        "    x=[i+1]\n",
        "    y=[valor]\n",
        "    print(y)\n",
        "    plt.xlabel(\"Períodos\")\n",
        "    plt.ylabel(\"Valor Acumulado\")\n",
        "    plt.plot(x,y)\n",
        "    print(f\"Após \\t {i+1} período(s), o montante será de R$ {valor:.2f}\")\n",
        "\n",
        "valor_investimento = float(input(\"Valor inicial do investimento: R$ \"))\n",
        "perc_rendimento = float(input(\"Informe o rendimento por período (%) \"))\n",
        "valor_aporte = float(input(\"Informe o valor do aporte em cada período R$: \"))\n",
        "num_periodos = int(input(\"Informe a quantidade de períodos: \"))\n",
        "\n",
        "calcular_rendimento(valor_investimento, perc_rendimento, valor_aporte, num_periodos)\n",
        "\n",
        "\n",
        "\n",
        "\n",
        " "
      ],
      "execution_count": null,
      "outputs": []
    },
    {
      "cell_type": "markdown",
      "metadata": {
        "id": "9oERVv_GVR1c"
      },
      "source": [
        ""
      ]
    },
    {
      "cell_type": "code",
      "metadata": {
        "id": "gab12NO9VPzc"
      },
      "source": [
        ""
      ],
      "execution_count": null,
      "outputs": []
    }
  ]
}